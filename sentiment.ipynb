{
 "cells": [
  {
   "cell_type": "markdown",
   "metadata": {},
   "source": [
    "# Imports"
   ]
  },
  {
   "cell_type": "code",
   "execution_count": 19,
   "metadata": {},
   "outputs": [],
   "source": [
    "from sklearn.feature_extraction.text import CountVectorizer\n",
    "from sklearn.naive_bayes import BernoulliNB\n",
    "from sklearn.metrics import confusion_matrix\n",
    "from nltk.probability import FreqDist\n",
    "from nltk.tokenize import word_tokenize, RegexpTokenizer\n",
    "\n",
    "import numpy as np\n",
    "import itertools\n",
    "import matplotlib.pyplot as plt\n",
    "import pandas\n",
    "\n"
   ]
  },
  {
   "cell_type": "markdown",
   "metadata": {},
   "source": [
    "## Open Datasets"
   ]
  },
  {
   "cell_type": "code",
   "execution_count": 20,
   "metadata": {},
   "outputs": [
    {
     "name": "stdout",
     "output_type": "stream",
     "text": [
      "A very, very, very slow-moving, aimless movie about a distressed, drifting young man.  \t0\n",
      "And those baby owls were adorable.  \t1\n",
      "I don't think you will be disappointed.  \t1\n",
      "All in all its an insult to one's intelligence and a huge waste of money.  \t0\n"
     ]
    }
   ],
   "source": [
    "def get_all_data():\n",
    "    root = \"Data2/\"\n",
    "\n",
    "    with open(root + \"imdb_labelled.txt\", \"r\") as text_file:\n",
    "        data = text_file.read().split('\\n')\n",
    "         \n",
    "    with open(root + \"amazon_cells_labelled.txt\", \"r\") as text_file:\n",
    "        data += text_file.read().split('\\n')\n",
    "\n",
    "    with open(root + \"yelp_labelled.txt\", \"r\") as text_file:\n",
    "        data += text_file.read().split('\\n')\n",
    "\n",
    "    return data\n",
    "\n",
    "values = get_all_data()\n",
    "print(values[0])\n",
    "print(values[10])\n",
    "print(values[100])\n",
    "print(values[999])"
   ]
  },
  {
   "cell_type": "markdown",
   "metadata": {},
   "source": [
    "## Preprocessing of data"
   ]
  },
  {
   "cell_type": "code",
   "execution_count": 21,
   "metadata": {},
   "outputs": [
    {
     "name": "stdout",
     "output_type": "stream",
     "text": [
      "['A very, very, very slow-moving, aimless movie about a distressed, drifting young man.  ', '0']\n",
      "['And those baby owls were adorable.  ', '1']\n"
     ]
    }
   ],
   "source": [
    "def preprocessing_data(data):\n",
    "    processing_data = []\n",
    "    for single_data in data:\n",
    "        if len(single_data.split(\"\\t\")) == 2 and single_data.split(\"\\t\")[1] != \"\":\n",
    "            processing_data.append(single_data.split(\"\\t\"))\n",
    "\n",
    "    return processing_data\n",
    "\n",
    "all_data = get_all_data()\n",
    "values = preprocessing_data(all_data)\n",
    "print(values[0])\n",
    "print(values[10])"
   ]
  },
  {
   "cell_type": "markdown",
   "metadata": {},
   "source": [
    "\n",
    "## Split Data"
   ]
  },
  {
   "cell_type": "code",
   "execution_count": 22,
   "metadata": {},
   "outputs": [],
   "source": [
    "def split_data(data):\n",
    "    total = len(data)\n",
    "    training_ratio = 0.75\n",
    "    training_data = []\n",
    "    evaluation_data = []\n",
    "\n",
    "    for indice in range(0, total):\n",
    "        if indice < total * training_ratio:\n",
    "            training_data.append(data[indice])\n",
    "        else:\n",
    "            evaluation_data.append(data[indice])\n",
    "\n",
    "    return training_data, evaluation_data"
   ]
  },
  {
   "cell_type": "markdown",
   "metadata": {},
   "source": [
    "## Preprocessing Step"
   ]
  },
  {
   "cell_type": "code",
   "execution_count": 23,
   "metadata": {},
   "outputs": [],
   "source": [
    "def preprocessing_step():\n",
    "    data = get_all_data()\n",
    "    processing_data = preprocessing_data(data)\n",
    "\n",
    "    return split_data(processing_data)"
   ]
  },
  {
   "cell_type": "code",
   "execution_count": 24,
   "metadata": {},
   "outputs": [
    {
     "data": {
      "image/png": "[encoded data removed]",
      "text/plain": [
       "<Figure size 432x288 with 1 Axes>"
      ]
     },
     "metadata": {
      "needs_background": "light"
     },
     "output_type": "display_data"
    }
   ],
   "source": [
    "def word_tokenize():\n",
    "    tokenizer = RegexpTokenizer(r'\\w+')\n",
    "\n",
    "    data = get_all_data()\n",
    "    tokens = []\n",
    "\n",
    "    for i in data:\n",
    "        wordTokens = tokenizer.tokenize(i)\n",
    "        contentWord_list = [i for i in wordTokens if not i in data]\n",
    "        return tokens.extend(contentWord_list)\n",
    "        \n",
    "fdist = FreqDist(tokens)\n",
    "fdist.plot(20)\n",
    "plt.show()"
   ]
  },
  {
   "cell_type": "code",
   "execution_count": 25,
   "metadata": {},
   "outputs": [],
   "source": [
    "def training_step(data, vectorizer):\n",
    "    training_text = [data[0] for data in data]\n",
    "    training_result = [data[1] for data in data]\n",
    "\n",
    "    training_text = vectorizer.fit_transform(training_text)\n",
    "    print(training_text)\n",
    "    return BernoulliNB().fit(training_text, training_result)"
   ]
  },
  {
   "cell_type": "markdown",
   "metadata": {},
   "source": [
    "## Score Step"
   ]
  },
  {
   "cell_type": "code",
   "execution_count": 26,
   "metadata": {},
   "outputs": [],
   "source": [
    "# training_data, evaluation_data = preprocessing_step()\n",
    "# vectorizer = CountVectorizer(binary = 'true')\n",
    "# classifier = training_step(training_data, vectorizer)\n",
    "# result = classifier.predict(vectorizer.transform([\"What a good day!\"]))\n",
    "\n",
    "# result[0]"
   ]
  },
  {
   "cell_type": "code",
   "execution_count": 27,
   "metadata": {},
   "outputs": [
    {
     "ename": "NameError",
     "evalue": "name 'classifier' is not defined",
     "output_type": "error",
     "traceback": [
      "\u001b[0;31m---------------------------------------------------------------------------\u001b[0m",
      "\u001b[0;31mNameError\u001b[0m                                 Traceback (most recent call last)",
      "\u001b[0;32m<ipython-input-27-26e584f76dd0>\u001b[0m in \u001b[0;36m<module>\u001b[0;34m\u001b[0m\n\u001b[1;32m      2\u001b[0m     \u001b[0;32mreturn\u001b[0m \u001b[0mtext\u001b[0m\u001b[0;34m,\u001b[0m \u001b[0mclassifier\u001b[0m\u001b[0;34m.\u001b[0m\u001b[0mpredict\u001b[0m\u001b[0;34m(\u001b[0m\u001b[0mvectorizer\u001b[0m\u001b[0;34m.\u001b[0m\u001b[0mtransform\u001b[0m\u001b[0;34m(\u001b[0m\u001b[0;34m[\u001b[0m\u001b[0mtext\u001b[0m\u001b[0;34m]\u001b[0m\u001b[0;34m)\u001b[0m\u001b[0;34m)\u001b[0m\u001b[0;34m\u001b[0m\u001b[0;34m\u001b[0m\u001b[0m\n\u001b[1;32m      3\u001b[0m \u001b[0;34m\u001b[0m\u001b[0m\n\u001b[0;32m----> 4\u001b[0;31m \u001b[0mnew_result\u001b[0m \u001b[0;34m=\u001b[0m \u001b[0manalyse_text\u001b[0m\u001b[0;34m(\u001b[0m\u001b[0mclassifier\u001b[0m\u001b[0;34m,\u001b[0m \u001b[0mvectorizer\u001b[0m\u001b[0;34m,\u001b[0m \u001b[0;34m\"Best product ever\"\u001b[0m\u001b[0;34m)\u001b[0m\u001b[0;34m\u001b[0m\u001b[0;34m\u001b[0m\u001b[0m\n\u001b[0m\u001b[1;32m      5\u001b[0m \u001b[0mnew_result\u001b[0m\u001b[0;34m\u001b[0m\u001b[0;34m\u001b[0m\u001b[0m\n",
      "\u001b[0;31mNameError\u001b[0m: name 'classifier' is not defined"
     ]
    }
   ],
   "source": [
    "def analyse_text(classifier, vectorizer, text):\n",
    "    return text, classifier.predict(vectorizer.transform([text]))\n",
    "\n",
    "new_result = analyse_text(classifier, vectorizer, \"Best product ever\")\n",
    "new_result"
   ]
  },
  {
   "cell_type": "code",
   "execution_count": 160,
   "metadata": {},
   "outputs": [
    {
     "name": "stdout",
     "output_type": "stream",
     "text": [
      "Best product ever : Positive\n"
     ]
    }
   ],
   "source": [
    "def print_result(result):\n",
    "    text, analysis_result = result\n",
    "    print_text = \"Positive\" if analysis_result[0] == '1' else \"Negative\"\n",
    "    print(text, \":\", print_text)\n",
    "    \n",
    "print_result(new_result)"
   ]
  },
  {
   "cell_type": "markdown",
   "metadata": {},
   "source": [
    "### More examples"
   ]
  },
  {
   "cell_type": "code",
   "execution_count": 166,
   "metadata": {
    "scrolled": true
   },
   "outputs": [
    {
     "name": "stdout",
     "output_type": "stream",
     "text": [
      "this is the best movie : Positive\n",
      "angel : Positive\n",
      "hatred : Negative\n",
      "10/10 : Positive\n",
      "so bad : Negative\n",
      "nice : Positive\n",
      "sxdcd : Negative\n"
     ]
    }
   ],
   "source": [
    "print_result( analyse_text(classifier, vectorizer,\"this is the best movie\"))\n",
    "print_result( analyse_text(classifier, vectorizer,\"angel\"))\n",
    "print_result( analyse_text(classifier, vectorizer,\"hatred\"))\n",
    "print_result( analyse_text(classifier, vectorizer,\"10/10\"))\n",
    "print_result( analyse_text(classifier, vectorizer,\"so bad\"))\n",
    "print_result( analyse_text(classifier, vectorizer,\"nice\"))\n",
    "print_result( analyse_text(classifier, vectorizer,\"sxdcd\"))"
   ]
  },
  {
   "cell_type": "markdown",
   "metadata": {},
   "source": [
    "## Evaluation Step"
   ]
  },
  {
   "cell_type": "code",
   "execution_count": 142,
   "metadata": {},
   "outputs": [
    {
     "data": {
      "text/plain": [
       "82.0"
      ]
     },
     "execution_count": 142,
     "metadata": {},
     "output_type": "execute_result"
    }
   ],
   "source": [
    "def simple_evaluation(evaluation_data):\n",
    "    evaluation_text     = [evaluation_data[0] for evaluation_data in evaluation_data]\n",
    "    evaluation_result   = [evaluation_data[1] for evaluation_data in evaluation_data]\n",
    "\n",
    "    total = len(evaluation_text)\n",
    "    corrects = 0\n",
    "    for index in range(0, total):\n",
    "        analysis_result = analyse_text(classifier, vectorizer, evaluation_text[index])\n",
    "        text, result = analysis_result\n",
    "        corrects += 1 if result[0] == evaluation_result[index] else 0\n",
    "\n",
    "    return corrects * 100 / total\n",
    "\n",
    "simple_evaluation(evaluation_data)"
   ]
  },
  {
   "cell_type": "markdown",
   "metadata": {},
   "source": [
    "### Confusion Matrix"
   ]
  },
  {
   "cell_type": "code",
   "execution_count": 110,
   "metadata": {},
   "outputs": [],
   "source": [
    "def create_confusion_matrix(evaluation_data):\n",
    "    evaluation_text     = [evaluation_data[0] for evaluation_data in evaluation_data]\n",
    "    actual_result       = [evaluation_data[1] for evaluation_data in evaluation_data]\n",
    "    prediction_result   = []\n",
    "    for text in evaluation_text:\n",
    "        analysis_result = analyse_text(classifier, vectorizer, text)\n",
    "        prediction_result.append(analysis_result[1][0])\n",
    "    \n",
    "    matrix = confusion_matrix(actual_result, prediction_result)\n",
    "    return matrix\n",
    "    \n",
    "confusion_matrix_result = create_confusion_matrix(evaluation_data)"
   ]
  },
  {
   "cell_type": "markdown",
   "metadata": {},
   "source": [
    "## Data Frame"
   ]
  },
  {
   "cell_type": "code",
   "execution_count": 112,
   "metadata": {},
   "outputs": [
    {
     "data": {
      "text/html": [
       "<div>\n",
       "<style scoped>\n",
       "    .dataframe tbody tr th:only-of-type {\n",
       "        vertical-align: middle;\n",
       "    }\n",
       "\n",
       "    .dataframe tbody tr th {\n",
       "        vertical-align: top;\n",
       "    }\n",
       "\n",
       "    .dataframe thead th {\n",
       "        text-align: right;\n",
       "    }\n",
       "</style>\n",
       "<table border=\"1\" class=\"dataframe\">\n",
       "  <thead>\n",
       "    <tr style=\"text-align: right;\">\n",
       "      <th></th>\n",
       "      <th>Negatives</th>\n",
       "      <th>Positives</th>\n",
       "    </tr>\n",
       "  </thead>\n",
       "  <tbody>\n",
       "    <tr>\n",
       "      <td>Negatives</td>\n",
       "      <td>322</td>\n",
       "      <td>64</td>\n",
       "    </tr>\n",
       "    <tr>\n",
       "      <td>Positives</td>\n",
       "      <td>71</td>\n",
       "      <td>293</td>\n",
       "    </tr>\n",
       "  </tbody>\n",
       "</table>\n",
       "</div>"
      ],
      "text/plain": [
       "           Negatives  Positives\n",
       "Negatives        322         64\n",
       "Positives         71        293"
      ]
     },
     "execution_count": 112,
     "metadata": {},
     "output_type": "execute_result"
    }
   ],
   "source": [
    "pandas.DataFrame(confusion_matrix_result, columns=[\"Negatives\", \"Positives\"],index=[\"Negatives\", \"Positives\"])"
   ]
  },
  {
   "cell_type": "markdown",
   "metadata": {},
   "source": [
    "### Plot Confusion Matrix"
   ]
  },
  {
   "cell_type": "code",
   "execution_count": 163,
   "metadata": {},
   "outputs": [
    {
     "data": {
      "image/png": "[encoded data removed]",
      "text/plain": [
       "<Figure size 432x288 with 2 Axes>"
      ]
     },
     "metadata": {
      "needs_background": "light"
     },
     "output_type": "display_data"
    }
   ],
   "source": [
    "classes = [\"Negatives\", \"Positives\"]\n",
    "\n",
    "plt.figure()\n",
    "plt.imshow(confusion_matrix_result, interpolation='nearest', cmap=plt.cm.Blues)\n",
    "plt.title(\"Confusion Matrix - Sentiment Analysis\")\n",
    "plt.colorbar()\n",
    "tick_marks = np.arange(len(classes))\n",
    "plt.xticks(tick_marks, classes, rotation=45)\n",
    "plt.yticks(tick_marks, classes)\n",
    "\n",
    "text_format = 'd'\n",
    "thresh = confusion_matrix_result.max() / 2.\n",
    "for row, column in itertools.product(range(confusion_matrix_result.shape[0]), range(confusion_matrix_result.shape[1])):\n",
    "    plt.text(column, row, format(confusion_matrix_result[row, column], text_format),\n",
    "             horizontalalignment=\"center\",\n",
    "             color=\"white\" if confusion_matrix_result[row, column] > thresh else \"black\")\n",
    "\n",
    "plt.ylabel('True label')\n",
    "plt.xlabel('Predicted label')\n",
    "plt.tight_layout()\n",
    "\n",
    "plt.show()"
   ]
  },
  {
   "cell_type": "code",
   "execution_count": 114,
   "metadata": {},
   "outputs": [
    {
     "name": "stdout",
     "output_type": "stream",
     "text": [
      "Accuracy: 0.82\n",
      "Precision: 0.804945054945055\n",
      "Recall: 0.8207282913165266\n",
      "F1 Score: 0.812760055478502\n"
     ]
    }
   ],
   "source": [
    "true_negatives = confusion_matrix_result[0][0]\n",
    "false_negatives = confusion_matrix_result[0][1]\n",
    "false_positives = confusion_matrix_result[1][0]\n",
    "true_positives = confusion_matrix_result[1][1]\n",
    "\n",
    "accuracy = (true_positives + true_negatives) / (true_positives + true_negatives + false_positives + false_negatives)\n",
    "precision = true_positives / (true_positives + false_positives)\n",
    "recall = true_positives / (true_positives + false_negatives)\n",
    "f1_score = 2*(recall * precision) / (recall + precision)\n",
    "\n",
    "print('Accuracy:',accuracy)\n",
    "print('Precision:',precision)\n",
    "print('Recall:',recall)\n",
    "print('F1 Score:',f1_score)"
   ]
  },
  {
   "cell_type": "code",
   "execution_count": null,
   "metadata": {},
   "outputs": [],
   "source": []
  },
  {
   "cell_type": "code",
   "execution_count": null,
   "metadata": {},
   "outputs": [],
   "source": []
  }
 ],
 "metadata": {
  "kernelspec": {
   "display_name": "Python 3",
   "language": "python",
   "name": "python3"
  },
  "language_info": {
   "codemirror_mode": {
    "name": "ipython",
    "version": 3
   },
   "file_extension": ".py",
   "mimetype": "text/x-python",
   "name": "python",
   "nbconvert_exporter": "python",
   "pygments_lexer": "ipython3",
   "version": "3.7.3"
  },
  "widgets": {
   "application/vnd.jupyter.widget-state+json": {
    "state": {},
    "version_major": 2,
    "version_minor": 0
   }
  }
 },
 "nbformat": 4,
 "nbformat_minor": 2
}
